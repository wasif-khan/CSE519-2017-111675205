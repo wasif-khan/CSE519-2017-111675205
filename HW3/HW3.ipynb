{
 "cells": [
  {
   "cell_type": "markdown",
   "metadata": {},
   "source": [
    "<h1><center>ASSIGNMENT 3</center></h1>\n",
    "## TASK 1: Ranking by desirability\n",
    "Below, we load the data from the new file provided by Zillow. The interesting variables are found out like Assignment 2 and made into a dataframe for further processing."
   ]
  },
  {
   "cell_type": "code",
   "execution_count": 35,
   "metadata": {},
   "outputs": [],
   "source": [
    "import warnings\n",
    "warnings.filterwarnings('ignore')\n",
    "\n",
    "import pandas as pd\n",
    "\n",
    "df = pd.read_csv(\"properties_2017.csv\")\n",
    "col_array=list(df)\n",
    "data_array=(len(df.index)-df.isnull().sum())/len(df.index)\n",
    "col_selected=[]\n",
    "\n",
    "for i in range(0,len(data_array)):\n",
    "    if data_array[i]>=0.5:\n",
    "        col_selected.append(col_array[i])\n",
    "\n",
    "remove_labels=['fips','propertyzoningdesc','rawcensustractandblock','censustractandblock','assessmentyear','taxdelinquencyyear']\n",
    "\n",
    "for x in remove_labels:\n",
    "    if x in col_selected:\n",
    "        col_selected.remove(x)\n",
    "    \n",
    "selected_df=df[col_selected].copy()"
   ]
  },
  {
   "cell_type": "markdown",
   "metadata": {},
   "source": [
    "After selecting the interesting columns, we further narrow down out choice. We select a number of columns which are most likely to determine the price of a house and form a scoring function using them. We then score each of the house and find out the 10 houses which score the most and least according to our function."
   ]
  },
  {
   "cell_type": "code",
   "execution_count": 34,
   "metadata": {},
   "outputs": [
    {
     "name": "stdout",
     "output_type": "stream",
     "text": [
      "Best 10 houses:\n",
      "\n",
      "parcelid\n",
      "12899194\n",
      "12876709\n",
      "11775769\n",
      "11772640\n",
      "13017031\n",
      "13017006\n",
      "12120679\n",
      "11771438\n",
      "12088683\n",
      "11797476\n",
      "\n",
      "Worst 10 houses:\n",
      "\n",
      "parcelid\n",
      " 11642356\n",
      " 11681241\n",
      " 10738101\n",
      " 12969862\n",
      " 12146164\n",
      " 10868753\n",
      " 11887283\n",
      " 11857690\n",
      "167638594\n",
      " 10944745\n"
     ]
    }
   ],
   "source": [
    "import math\n",
    "\n",
    "scoring_cols=['parcelid','bathroomcnt','buildingqualitytypeid','finishedsquarefeet12','unitcnt','yearbuilt','taxamount']\n",
    "temp_df=selected_df[scoring_cols].copy()\n",
    "temp_df=temp_df.fillna(temp_df.mean())\n",
    "\n",
    "normalized_df=pd.DataFrame()\n",
    "\n",
    "for col in scoring_cols:\n",
    "    if col=='parcelid':\n",
    "        normalized_df[col]=temp_df[col]\n",
    "    else:\n",
    "        normalized_df[col]=(temp_df[col] - temp_df[col].mean()) / (temp_df[col].max() - temp_df[col].min())\n",
    "\n",
    "def scoring_fn(bath,quality,area,unit,year,tax):\n",
    "    return (0.05*bath)+(0.3*(1-quality))+(0.3*area)+(0.1*unit)+(0.1*year)+(0.15*tax)\n",
    "    \n",
    "normalized_df['score'] = normalized_df.apply(lambda row: scoring_fn(row['bathroomcnt'], row['buildingqualitytypeid'],row['finishedsquarefeet12'],row['unitcnt'],row['yearbuilt'],row['taxamount']), axis=1)\n",
    "\n",
    "normalized_df=normalized_df.sort_values('score')\n",
    "print('Best 10 houses:\\n')\n",
    "print(normalized_df.head(10)[['parcelid']].to_string(index=False))\n",
    "print('\\nWorst 10 houses:\\n')\n",
    "print(normalized_df.tail(10)[['parcelid']].to_string(index=False))"
   ]
  },
  {
   "cell_type": "markdown",
   "metadata": {},
   "source": [
    "### Description of cost function\n",
    "The columns making up the cost function has been selected according to their potential to play an important factor in determining the pricing of a house. In doing that, the columns had been normalized because each column has a different unit and largely varying range. The weights given to the different columns has been assigned so as to reflect the effect of that factor on the price.\n",
    "<p>The columns selected for the weight function are the following:</p>\n",
    "<p>\n",
    "<strong>Building quality type: </strong>The quality of a building would be very important in determining the price of the building. The higher the quality, the greater would be the price of it. A lower number in the quality column denotes a better building. So the scoring function has been taken to subtract the normalized quality from 1 so that a lower value may reflect highly on the score.\n",
    "</p>\n",
    "<p>\n",
    "<strong>Finished square feet: </strong>Higher the area of the house, the greater will be the price. The importance of the finished square feet in determining the price of a house is reflected in its weight.\n",
    "</p>\n",
    "<p>\n",
    "<strong>Unit count: </strong>A house having more units would have a higher price tag than one with smaller number of units.\n",
    "</p>\n",
    "<p>\n",
    "<strong>Year built: </strong>A house built more recently is more likely to have a higher price than old ones. In assignment 2, we saw that the quality of house is related to the year they were built in.\n",
    "</p>\n",
    "<p>\n",
    "<strong>Tax on property: </strong>Highly taxed houses are also the more expensive ones.\n",
    "</p>\n",
    "<p>\n",
    "<strong>Bathroom count: </strong>Not a very important as seen from the weight. However a house having more bathrooms would also be roomier and so more expensive.\n",
    "</p>"
   ]
  },
  {
   "cell_type": "markdown",
   "metadata": {},
   "source": [
    "## TASK 2: Pairwise distance function"
   ]
  },
  {
   "cell_type": "code",
   "execution_count": null,
   "metadata": {
    "collapsed": true
   },
   "outputs": [],
   "source": []
  }
 ],
 "metadata": {
  "kernelspec": {
   "display_name": "Python 3",
   "language": "python",
   "name": "python3"
  },
  "language_info": {
   "codemirror_mode": {
    "name": "ipython",
    "version": 3
   },
   "file_extension": ".py",
   "mimetype": "text/x-python",
   "name": "python",
   "nbconvert_exporter": "python",
   "pygments_lexer": "ipython3",
   "version": "3.6.1"
  }
 },
 "nbformat": 4,
 "nbformat_minor": 2
}
