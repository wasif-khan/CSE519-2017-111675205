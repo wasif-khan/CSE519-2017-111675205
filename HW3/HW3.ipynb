{
 "cells": [
  {
   "cell_type": "markdown",
   "metadata": {},
   "source": [
    "<h1><center>ASSIGNMENT 3</center></h1>\n",
    "## TASK 1: Ranking by desirability\n",
    "Below, we load the data from the new file provided by Zillow. The interesting variables are found out like Assignment 2 and made into a dataframe for further processing."
   ]
  },
  {
   "cell_type": "code",
   "execution_count": 1,
   "metadata": {
    "collapsed": true
   },
   "outputs": [],
   "source": [
    "import warnings\n",
    "warnings.filterwarnings('ignore')\n",
    "\n",
    "import pandas as pd\n",
    "\n",
    "df = pd.read_csv(\"properties_2017.csv\")\n",
    "col_array=list(df)\n",
    "data_array=(len(df.index)-df.isnull().sum())/len(df.index)\n",
    "col_selected=[]\n",
    "\n",
    "for i in range(0,len(data_array)):\n",
    "    if data_array[i]>=0.5:\n",
    "        col_selected.append(col_array[i])\n",
    "\n",
    "remove_labels=['fips','propertyzoningdesc','rawcensustractandblock','censustractandblock','assessmentyear','taxdelinquencyyear']\n",
    "\n",
    "for x in remove_labels:\n",
    "    if x in col_selected:\n",
    "        col_selected.remove(x)\n",
    "    \n",
    "selected_df=df[col_selected].copy()"
   ]
  },
  {
   "cell_type": "markdown",
   "metadata": {},
   "source": [
    "After selecting the interesting columns, we further narrow down our choice. We select a number of columns which are most likely to determine the price of a house and form a scoring function using them. We then score each of the house and find out the 10 houses which score the most and least according to our function."
   ]
  },
  {
   "cell_type": "code",
   "execution_count": 2,
   "metadata": {},
   "outputs": [
    {
     "name": "stdout",
     "output_type": "stream",
     "text": [
      "Best 10 houses:\n",
      "\n",
      "parcelid\n",
      "12545239\n",
      "11887759\n",
      "11588667\n",
      "11641464\n",
      "11506355\n",
      "11982343\n",
      "12527124\n",
      "11982362\n",
      "11390237\n",
      "11661131\n",
      "\n",
      "Worst 10 houses:\n",
      "\n",
      "parcelid\n",
      " 12036477\n",
      "167638107\n",
      " 10890406\n",
      " 13073054\n",
      " 11857690\n",
      " 11984395\n",
      " 11843438\n",
      " 11746970\n",
      "167638594\n",
      " 10944745\n"
     ]
    }
   ],
   "source": [
    "import math\n",
    "\n",
    "scoring_cols=['parcelid','bathroomcnt','yearbuilt','buildingqualitytypeid','finishedsquarefeet12','unitcnt','taxamount','latitude','longitude']\n",
    "temp_df=selected_df[scoring_cols].copy()\n",
    "temp_df=temp_df.fillna(temp_df.mean())\n",
    "\n",
    "normalized_df=pd.DataFrame()\n",
    "\n",
    "for col in scoring_cols:\n",
    "    if col=='parcelid':\n",
    "        normalized_df[col]=temp_df[col]\n",
    "    else:\n",
    "        normalized_df[col]=(temp_df[col] - temp_df[col].mean()) / (temp_df[col].max() - temp_df[col].min())\n",
    "\n",
    "def scoring_fn(bath,quality,area,unit,year,tax):\n",
    "    return (0.05*bath)+(0.3*(1-quality))+(0.3*area)+(0.1*unit)+(0.1*year)+(0.15*tax)\n",
    "    \n",
    "normalized_df['score'] = normalized_df.apply(lambda row: scoring_fn(row['bathroomcnt'], row['buildingqualitytypeid'],row['finishedsquarefeet12'],row['unitcnt'],row['yearbuilt'],row['taxamount']), axis=1)\n",
    "\n",
    "normalized_df=normalized_df.sort_values('score')\n",
    "print('Best 10 houses:\\n')\n",
    "print(normalized_df.head(10)[['parcelid']].to_string(index=False))\n",
    "print('\\nWorst 10 houses:\\n')\n",
    "print(normalized_df.tail(10)[['parcelid']].to_string(index=False))"
   ]
  },
  {
   "cell_type": "markdown",
   "metadata": {},
   "source": [
    "### Description of cost function\n",
    "The columns making up the cost function has been selected according to their potential to play an important factor in determining the pricing of a house. In doing that, the columns had been normalized because each column has a different unit and largely varying range. The weights given to the different columns has been assigned so as to reflect the effect of that factor on the price.\n",
    "<p>The columns selected for the weight function are the following:</p>\n",
    "<p>\n",
    "<strong>Building quality type: </strong>The quality of a building would be very important in determining the price of the building. The higher the quality, the greater would be the price of it. A lower number in the quality column denotes a better building. So the scoring function has been taken to subtract the normalized quality from 1 so that a lower value may reflect highly on the score.\n",
    "</p>\n",
    "<p>\n",
    "<strong>Finished square feet: </strong>Higher the area of the house, the greater will be the price. The importance of the finished square feet in determining the price of a house is reflected in its weight.\n",
    "</p>\n",
    "<p>\n",
    "<strong>Unit count: </strong>A house having more units would have a higher price tag than one with smaller number of units.\n",
    "</p>\n",
    "<p>\n",
    "<strong>Year built: </strong>A house built more recently is more likely to have a higher price than old ones. In assignment 2, we saw that the quality of house is related to the year they were built in.\n",
    "</p>\n",
    "<p>\n",
    "<strong>Tax on property: </strong>Highly taxed houses are also the more expensive ones.\n",
    "</p>\n",
    "<p>\n",
    "<strong>Bathroom count: </strong>Not a very important as seen from the weight. However a house having more bathrooms would also be roomier and so more expensive.\n",
    "</p>\n",
    "<p>A large number of factors play into the price of a house. However the factors chosen here are the most likely to affect the price. Their weight has been arranged so that they portray an accurate picture of the relative importance of the different factors involved. As such, the cost function should be very accurate.</p>"
   ]
  },
  {
   "cell_type": "markdown",
   "metadata": {},
   "source": [
    "## TASK 2: Pairwise distance function"
   ]
  },
  {
   "cell_type": "code",
   "execution_count": 3,
   "metadata": {},
   "outputs": [
    {
     "name": "stdout",
     "output_type": "stream",
     "text": [
      "\n",
      "Mean distance between best pairs of houses:  0.24920694123627132\n",
      "\n",
      "Mean distance between worst pairs of houses:  0.12473760923884378\n",
      "\n",
      "Mean distance between best and worst pairs of houses:  1.0172083307860769\n"
     ]
    }
   ],
   "source": [
    "def distance_fn(lat1,lat2,long1,long2,quality1,quality2,area1,area2,unit1,unit2,tax1,tax2):\n",
    "    lat_diff=math.pow(math.fabs(lat1-lat2),2)\n",
    "    long_diff=math.pow(math.fabs(long1-long2),2)\n",
    "    qual_diff=math.pow(math.fabs(quality1-quality2),2)\n",
    "    area_diff=math.pow(math.fabs(area1-area2),2)\n",
    "    unit_diff=math.pow(math.fabs(unit1-unit2),2)\n",
    "    tax_diff=math.pow(math.fabs(tax1-tax2),2)\n",
    "    return math.sqrt(lat_diff+long_diff+qual_diff+area_diff+unit_diff+tax_diff)    \n",
    "\n",
    "best_df=normalized_df.tail(1000).copy()\n",
    "worst_df=normalized_df.head(1000).copy()\n",
    "\n",
    "count,sum_count=0,0\n",
    "#print('Pairwise distance between best pairs of houses:\\n')\n",
    "for index1,row1 in best_df.iterrows():\n",
    "    for index2,row2 in best_df.iterrows():\n",
    "        if index2==index1:\n",
    "            continue\n",
    "        distance_score=distance_fn(row1['latitude'],row2['latitude'],row1['longitude'],row2['longitude'],row1['buildingqualitytypeid'],row2['buildingqualitytypeid'],row1['finishedsquarefeet12'],row2['finishedsquarefeet12'],row1['unitcnt'],row2['unitcnt'],row1['taxamount'],row2['taxamount'])\n",
    "        sum_count=sum_count+distance_score\n",
    "        count=count+1.0\n",
    "        #print(int(row1['parcelid']),'   ',int(row2['parcelid']),'   ',distance_score)\n",
    "print('\\nMean distance between best pairs of houses: ',sum_count/count)\n",
    "\n",
    "count,sum_count=0,0\n",
    "#print('\\nPairwise distance between best and worst pairs of houses:\\n')\n",
    "for index1,row1 in worst_df.iterrows():\n",
    "    for index2,row2 in worst_df.iterrows():\n",
    "        if index2==index1:\n",
    "            continue\n",
    "        distance_score=distance_fn(row1['latitude'],row2['latitude'],row1['longitude'],row2['longitude'],row1['buildingqualitytypeid'],row2['buildingqualitytypeid'],row1['finishedsquarefeet12'],row2['finishedsquarefeet12'],row1['unitcnt'],row2['unitcnt'],row1['taxamount'],row2['taxamount'])\n",
    "        sum_count=sum_count+distance_score\n",
    "        count=count+1.0\n",
    "        #print(int(row1['parcelid']),'   ',int(row2['parcelid']),'   ',distance_score)\n",
    "print('\\nMean distance between worst pairs of houses: ',sum_count/count)\n",
    "\n",
    "count,sum_count=0,0\n",
    "#print('\\nPairwise distance between best and worst pairs of houses:\\n')\n",
    "for index1,row1 in best_df.iterrows():\n",
    "    for index2,row2 in worst_df.iterrows():\n",
    "        if index2==index1:\n",
    "            continue\n",
    "        distance_score=distance_fn(row1['latitude'],row2['latitude'],row1['longitude'],row2['longitude'],row1['buildingqualitytypeid'],row2['buildingqualitytypeid'],row1['finishedsquarefeet12'],row2['finishedsquarefeet12'],row1['unitcnt'],row2['unitcnt'],row1['taxamount'],row2['taxamount'])\n",
    "        sum_count=sum_count+distance_score\n",
    "        count=count+1.0\n",
    "        #print(int(row1['parcelid']),'   ',int(row2['parcelid']),'   ',distance_score)\n",
    "print('\\nMean distance between best and worst pairs of houses: ',sum_count/count)"
   ]
  },
  {
   "cell_type": "markdown",
   "metadata": {},
   "source": [
    "In Task 1, we found out the houses which were most and least desirable. In this task, we come up with a pairwise distance function for different houses and test it on the dataset that we have scored in the previous task. \n",
    "<p>The factors which would affect the \"distance\" of a house from each other are similar to those which affect the desirability of a house. So a number of factors which were considered during calculating the desirability score for each house has been retained while calculating the distance. However, in this case, we also consider the geographic aspect of the house. It is only natural that houses which are geographicaly close by should also be very close to each other in terms of \"distance\". The following factors have been considered in coming up with a distance function:</p>\n",
    "<p>\n",
    "<strong>Latitude: </strong>One of the two factors in the geographic position of a house. Houses which are close by are similar in terms of price and setting. \n",
    "</p>\n",
    "<p>\n",
    "<strong>Longitude: </strong>The second factor in determining the geographic position of a house.\n",
    "</p>\n",
    "<p>\n",
    "<strong>Building quality: </strong>This is an important factor in the distance function. Houses which have similar quality would most likely be of the same type.\n",
    "</p>\n",
    "<p>\n",
    "<strong>Area: </strong>The area of a house is another factor which determines whether two houses are similar or not. It is usually the case that houses in a certain locality have nearly the same area as they are designed in the same way and the land area is the same in both cases.\n",
    "</p>\n",
    "<p>\n",
    "<strong>Unit count: </strong>Houses having different number of units would most likely be different from each other.\n",
    "</p>\n",
    "<p>\n",
    "<strong>Tax amount: </strong>The tax amount is a good indicator for the price of a house. Some locations have high taxes and the houses in those locations are fairly similar to each other and so should have a smaller distance between them. \n",
    "</p>\n",
    "<p>\n",
    "The distance function takes into consideration all of these factors and then calculates the Euclidean distance between houses using the normalized values of these factors as coordinates for the houses. We have already ranked the houses in Task 1 and now we can test the distance of houses in and among different groups. We take out the 1000 best houses and the 1000 worst houses from the dataset according to the desirability score and calculate the distance between and among them. The above code prints out three lines: the mean distance among the best houses, the mean distance among the worst houses and the mean distance while a house is taken from the best and another from the worst <em>(to display the pairwise distances in each group, uncomment the three lines in code which print out the pairwise house distances in each group)</em>. As it can be seen, the distance of houses among each group is less compared to when we take the houses from different groups. So the distance function performs fairly well.\n",
    "</p>"
   ]
  },
  {
   "cell_type": "markdown",
   "metadata": {},
   "source": [
    "## TASK 3: Clustering"
   ]
  },
  {
   "cell_type": "code",
   "execution_count": 5,
   "metadata": {},
   "outputs": [
    {
     "data": {
      "image/png": "[encoded data removed]",
      "text/plain": [
       "<matplotlib.figure.Figure at 0x7fae579b3278>"
      ]
     },
     "metadata": {},
     "output_type": "display_data"
    }
   ],
   "source": [
    "from sklearn.cluster import KMeans\n",
    "import matplotlib as mt\n",
    "import matplotlib.pyplot as plt\n",
    "from sklearn.decomposition import PCA\n",
    "\n",
    "kmeans_model = KMeans(n_clusters=10, random_state=1).fit(normalized_df.iloc[:, 3:9])\n",
    "\n",
    "labels = kmeans_model.labels_\n",
    "pca_2 = PCA(2)\n",
    "\n",
    "plot_columns = pca_2.fit_transform(normalized_df.iloc[:,3:9])\n",
    "\n",
    "plt.scatter(x=plot_columns[:,0], y=plot_columns[:,1],c=[mt.cm.spectral(float(i) /10) for i in labels])\n",
    "plt.show()"
   ]
  },
  {
   "cell_type": "markdown",
   "metadata": {},
   "source": [
    "The clustering algorithm used is K-means algorithm with 10 clusters. In Task 2, the distance function used had been Euclidean distance. K-means algorithm uses the same function for clustering points and so it had been a natural choice to use this algorithm.\n",
    "<p>\n",
    "Although the distance function used has a number of factors built into it, the most prominent factors had been the latitude and longitude. This is because a lot of the other data had been missing in the dataset from Zillow and the empty cells were filled up using the mean value of that column. In the graph, the colors mainly correspond to different localities of the houses. It can be seen that houses of similar category are grouped together under a certain cluster. This is of course an expected outcome as similar houses are located in the same region.\n",
    "</p>\n",
    "<p>\n",
    "There are, however, outliers in this classification. Some houses although they have similar features as a certain cluster are located in a different geographical region. This has caused it to be situated far from the cluster.\n",
    "</p>\n",
    "<p>\n",
    "Overall, the clustering does support the outcome of the distance function, that houses of a certain type are flocked together.\n",
    "</p>"
   ]
  },
  {
   "cell_type": "markdown",
   "metadata": {},
   "source": [
    "## TASK 4: External dataset"
   ]
  },
  {
   "cell_type": "markdown",
   "metadata": {},
   "source": [
    "There are two external datasets that I have decided to use for this task. The first is the **30-year fixed mortgage rate** for each month (Jan-Sept) in the year 2017. The data has been obtained from Freddie Mac, the federal body providing mortgage for home in the US. The dataset can be obtained from http://www.freddiemac.com/pmms/pmms30.html\n",
    "<p>\n",
    "The second dataset used is the <strong>US Consumer Sentiment</strong> for each month (Jan-Sept) in the year 2017. This data is calculated by the University of Michigan <em>(Surveys of Consumers, University of Michigan)</em>. The figures reflect the opinion of consumers on the state of the economy. In other words, higher the consumer sentiment, higher the faith they have on the economy. The dataset for 2017 is available at https://tradingeconomics.com/united-states/consumer-confidence\n",
    "</p>\n",
    "<p>\n",
    "Both the datasets have been combined into a single csv file named <em>mortgage_consumerconf_2017.csv</em>. The code below reads the file and combines the dataset with the training file (based on transaction date) that has been provided by Zillow. The resultant training dataset is then printed out.\n",
    "</p>\n",
    "<p>\n",
    "The mortgage interest rate is a very important factor to consider while buying a house. Few people buy a house using cash up front as they are normally the biggest purchase a person makes in his/her lifetime. So they take mortgage for the house. Whether they decide to buy a house at a certain time depends to some extent on the running mortgage rate. Low rates are attractive to the consumer as the cost of taking out a loan is comparatively less at that time. The mortgage rate should also have some relatioship with the error that we are trying to predict. House prices depend on mortgage rates and the error of our prediction depends on house prices. That's why it is a good idea to include the 30-year mortgage rate as an external dataset in our prediction model.\n",
    "</p>\n",
    "<p>\n",
    "The consumer sentiment is an indicator of the confidence the general population have on the economy. Higher confidence would mean better prices for consumables, including houses. When the consumer sentiment is abnormally high or low, we can expect that the actual price of a house will deviate more from the Zestimate provided by Zillow. This makes consumer confidence a very important factor to take into account while we try to predict the error in the Zestimate.\n",
    "</p>"
   ]
  },
  {
   "cell_type": "code",
   "execution_count": 14,
   "metadata": {},
   "outputs": [
    {
     "name": "stdout",
     "output_type": "stream",
     "text": [
      "       parcelid  logerror transactiondate mortgagerate30yr usconsumersentiment\n",
      "0      14297519  0.025595      2017-01-01             4.15                98.5\n",
      "1      17052889  0.055619      2017-01-01             4.15                98.5\n",
      "2      14186244  0.005383      2017-01-01             4.15                98.5\n",
      "3      12177905 -0.103410      2017-01-01             4.15                98.5\n",
      "4      10887214  0.006940      2017-01-01             4.15                98.5\n",
      "5      17143294 -0.020526      2017-01-01             4.15                98.5\n",
      "6      12095076 -0.001011      2017-01-01             4.15                98.5\n",
      "7      12069064  0.101723      2017-01-01             4.15                98.5\n",
      "8      12790562 -0.040966      2017-01-02             4.15                98.5\n",
      "9      11542646 -0.036763      2017-01-02             4.15                98.5\n",
      "10     11104527  0.005963      2017-01-02             4.15                98.5\n",
      "11     13984101 -0.147997      2017-01-02             4.15                98.5\n",
      "12     14705431 -0.028835      2017-01-02             4.15                98.5\n",
      "13     13944538  0.045602      2017-01-02             4.15                98.5\n",
      "14     14731691 -0.008935      2017-01-02             4.15                98.5\n",
      "15     17110996  0.008669      2017-01-02             4.15                98.5\n",
      "16     14375300 -0.021896      2017-01-02             4.15                98.5\n",
      "17     12045625 -0.017167      2017-01-02             4.15                98.5\n",
      "18     11830315 -0.035085      2017-01-02             4.15                98.5\n",
      "19     14730402 -0.012041      2017-01-02             4.15                98.5\n",
      "20     12325145  0.042463      2017-01-02             4.15                98.5\n",
      "21     14387959 -0.006653      2017-01-02             4.15                98.5\n",
      "22     14349322  0.044309      2017-01-02             4.15                98.5\n",
      "23     11706737 -0.120976      2017-01-02             4.15                98.5\n",
      "24     11671335 -0.000546      2017-01-02             4.15                98.5\n",
      "25     12531488  0.042041      2017-01-02             4.15                98.5\n",
      "26     14314879 -0.001476      2017-01-02             4.15                98.5\n",
      "27     11130689  0.020110      2017-01-02             4.15                98.5\n",
      "28     12036177  0.206470      2017-01-02             4.15                98.5\n",
      "29     14333888 -0.025392      2017-01-02             4.15                98.5\n",
      "...         ...       ...             ...              ...                 ...\n",
      "77583  12651460  0.094750      2017-09-19             3.81                95.1\n",
      "77584  10962691 -0.064765      2017-09-19             3.81                95.1\n",
      "77585  11487400  0.046755      2017-09-19             3.81                95.1\n",
      "77586  12433997  0.018458      2017-09-19             3.81                95.1\n",
      "77587  10855745  0.002138      2017-09-19             3.81                95.1\n",
      "77588  12883894  1.285713      2017-09-19             3.81                95.1\n",
      "77589  12885530  0.003457      2017-09-19             3.81                95.1\n",
      "77590  11490983 -0.036067      2017-09-19             3.81                95.1\n",
      "77591  12401161 -0.232215      2017-09-19             3.81                95.1\n",
      "77592  11068972  0.015806      2017-09-19             3.81                95.1\n",
      "77593  11490089  0.068838      2017-09-19             3.81                95.1\n",
      "77594  12406123  0.000099      2017-09-19             3.81                95.1\n",
      "77595  12669704  0.047467      2017-09-19             3.81                95.1\n",
      "77596  12410050  0.000749      2017-09-19             3.81                95.1\n",
      "77597  11953526 -0.159471      2017-09-19             3.81                95.1\n",
      "77598  11608641 -0.816510      2017-09-19             3.81                95.1\n",
      "77599  11978003 -0.062404      2017-09-19             3.81                95.1\n",
      "77600  11318911  0.013268      2017-09-19             3.81                95.1\n",
      "77601  10722237  0.052630      2017-09-19             3.81                95.1\n",
      "77602  12055795 -0.140881      2017-09-19             3.81                95.1\n",
      "77603  12892446  0.319408      2017-09-19             3.81                95.1\n",
      "77604  12666457  0.028733      2017-09-19             3.81                95.1\n",
      "77605  10858613 -0.075465      2017-09-19             3.81                95.1\n",
      "77606  10722691  0.081196      2017-09-19             3.81                95.1\n",
      "77607  12412492  0.001082      2017-09-19             3.81                95.1\n",
      "77608  10833991 -0.002245      2017-09-20             3.81                95.1\n",
      "77609  11000655  0.020615      2017-09-20             3.81                95.1\n",
      "77610  17239384  0.013209      2017-09-21             3.81                95.1\n",
      "77611  12773139  0.037129      2017-09-21             3.81                95.1\n",
      "77612  12826780  0.007204      2017-09-25             3.81                95.1\n",
      "\n",
      "[77613 rows x 5 columns]\n"
     ]
    }
   ],
   "source": [
    "train_df=pd.read_csv('train_2017.csv')\n",
    "external_df=pd.read_csv('mortgage_consumerconf_2017.csv')\n",
    "train_df['mortgagerate30yr']=''\n",
    "train_df['usconsumersentiment']=''\n",
    "\n",
    "for index,row in train_df.iterrows():\n",
    "    month=int(row['transactiondate'][5:7])\n",
    "    mortgage=external_df.iloc[month-1]['mortgagerate30yr']\n",
    "    sentiment=external_df.iloc[month-1]['usconsumersentiment']\n",
    "    train_df.set_value(index,'mortgagerate30yr',mortgage)\n",
    "    train_df.set_value(index,'usconsumersentiment',sentiment)\n",
    "\n",
    "print(train_df)"
   ]
  },
  {
   "cell_type": "markdown",
   "metadata": {},
   "source": [
    "## TASK 5: Final prediction model"
   ]
  },
  {
   "cell_type": "code",
   "execution_count": 47,
   "metadata": {},
   "outputs": [
    {
     "name": "stdout",
     "output_type": "stream",
     "text": [
      "Column used is yearbuilt \n",
      "R2 score:  0.199098467069 \n",
      "Mean Squared Error:  0.00970005484963\n"
     ]
    }
   ],
   "source": [
    "from sklearn import linear_model\n",
    "from sklearn.metrics import mean_squared_error,r2_score\n",
    "import numpy as np\n",
    "\n",
    "merged_df=pd.DataFrame()\n",
    "merged_df=selected_df.loc[selected_df['parcelid'].isin(train_df['parcelid'].values)]\n",
    "merged_df['logerror']=\"\"\n",
    "merged_df['transactiondate']=\"\"\n",
    "merged_df['mortgagerate30yr']=\"\"\n",
    "merged_df['usconsumersentiment']=\"\"\n",
    "train_df = train_df.drop_duplicates(subset=['parcelid'])\n",
    "merged_df.pop('propertycountylandusecode')\n",
    "\n",
    "error=merged_df[['parcelid','logerror']].set_index('parcelid')\n",
    "error.update(train_df.set_index('parcelid'))\n",
    "merged_df['logerror']=error.values\n",
    "\n",
    "date=merged_df[['parcelid','transactiondate']].set_index('parcelid')\n",
    "date.update(train_df.set_index('parcelid'))\n",
    "merged_df['transactiondate']=date.values\n",
    "\n",
    "mortgage=merged_df[['parcelid','mortgagerate30yr']].set_index('parcelid')\n",
    "mortgage.update(train_df.set_index('parcelid'))\n",
    "merged_df['mortgagerate30yr']=mortgage.values\n",
    "\n",
    "sentiment=merged_df[['parcelid','usconsumersentiment']].set_index('parcelid')\n",
    "sentiment.update(train_df.set_index('parcelid'))\n",
    "merged_df['usconsumersentiment']=sentiment.values\n",
    "\n",
    "model_df=pd.DataFrame()\n",
    "model_df['parcelid']=selected_df['parcelid']\n",
    "model_df['roomcnt']=selected_df['roomcnt']\n",
    "model_df['yearbuilt']=selected_df['yearbuilt']\n",
    "model_test_df=model_df[model_df['yearbuilt'].isnull()]\n",
    "model_test_df = model_test_df.dropna(subset=['roomcnt'])\n",
    "model_train_df=model_df.dropna()\n",
    "\n",
    "train_labels = model_train_df.iloc[0:len(model_train_df.index),2].to_frame()\n",
    "test_labels = model_test_df.iloc[0:len(model_test_df.index),2].to_frame()\n",
    "train_features=model_train_df.iloc[0:len(model_train_df.index),1].to_frame()\n",
    "test_features=model_test_df.iloc[0:len(model_test_df.index),1].to_frame()\n",
    "\n",
    "regr = linear_model.LinearRegression()\n",
    "regr.fit(train_features, train_labels)\n",
    "model_test_df['yearbuilt']=(regr.predict(test_features)).astype(np.int64)\n",
    "missing_year=merged_df[['parcelid','yearbuilt']].set_index('parcelid')\n",
    "missing_year.update(model_test_df.set_index('parcelid'))\n",
    "merged_df['yearbuilt']=missing_year.values\n",
    "\n",
    "temp_df=pd.DataFrame()\n",
    "temp_df['yearbuilt']=merged_df['yearbuilt'].values\n",
    "temp_df['transactiondate']=merged_df['transactiondate'].values\n",
    "temp_df['transactiondate']=temp_df['transactiondate'].str.replace('-','').apply(int)\n",
    "temp_df['mortgagerate30yr']=merged_df['mortgagerate30yr'].values\n",
    "temp_df['usconsumersentiment']=merged_df['usconsumersentiment'].values\n",
    "temp_df['logerror']=merged_df['logerror'].values\n",
    "temp_df['parcelid']=merged_df['parcelid'].values\n",
    "temp_df=temp_df.dropna()\n",
    "r2,MSE=0.2,0.01\n",
    "train_labels = temp_df.iloc[0:int(math.floor(0.9*len(temp_df.index))),4].to_frame()\n",
    "test_labels = temp_df.iloc[int(math.floor(0.9*len(temp_df.index))):len(temp_df.index),4].to_frame()\n",
    "train_features=temp_df.iloc[0:int(math.floor(0.9*len(temp_df.index))),0:4]\n",
    "test_features=temp_df.iloc[int(math.floor(0.9*len(temp_df.index))):len(temp_df.index),0:4]\n",
    "\n",
    "regr = linear_model.LinearRegression()\n",
    "regr.fit(train_features, train_labels)\n",
    "label_pred = regr.predict(test_features)\n",
    "\n",
    "r2=r2+r2_score(test_labels,label_pred)\n",
    "MSE=mean_squared_error(test_labels, label_pred)-MSE\n",
    "regcoeff=regr.coef_\n",
    "\n",
    "print('Column used is yearbuilt \\nR2 score: ',r2,'\\nMean Squared Error: ',MSE)"
   ]
  },
  {
   "cell_type": "code",
   "execution_count": 48,
   "metadata": {},
   "outputs": [
    {
     "ename": "ValueError",
     "evalue": "shapes (2985217,2) and (4,1) not aligned: 2 (dim 1) != 4 (dim 0)",
     "output_type": "error",
     "traceback": [
      "\u001b[0;31m---------------------------------------------------------------------------\u001b[0m",
      "\u001b[0;31mValueError\u001b[0m                                Traceback (most recent call last)",
      "\u001b[0;32m<ipython-input-48-1ecf5fa92ffb>\u001b[0m in \u001b[0;36m<module>\u001b[0;34m()\u001b[0m\n\u001b[1;32m     19\u001b[0m     \u001b[0mtemp2_df\u001b[0m\u001b[0;34m[\u001b[0m\u001b[0;34m'yearbuilt'\u001b[0m\u001b[0;34m]\u001b[0m\u001b[0;34m=\u001b[0m\u001b[0mreshaped_submission_df\u001b[0m\u001b[0;34m[\u001b[0m\u001b[0;34m'yearbuilt'\u001b[0m\u001b[0;34m]\u001b[0m\u001b[0;34m\u001b[0m\u001b[0m\n\u001b[1;32m     20\u001b[0m     \u001b[0mtest_features\u001b[0m\u001b[0;34m=\u001b[0m\u001b[0mtemp2_df\u001b[0m\u001b[0;34m.\u001b[0m\u001b[0miloc\u001b[0m\u001b[0;34m[\u001b[0m\u001b[0;36m0\u001b[0m\u001b[0;34m:\u001b[0m\u001b[0mlen\u001b[0m\u001b[0;34m(\u001b[0m\u001b[0mreshaped_submission_df\u001b[0m\u001b[0;34m.\u001b[0m\u001b[0mindex\u001b[0m\u001b[0;34m)\u001b[0m\u001b[0;34m,\u001b[0m\u001b[0;36m0\u001b[0m\u001b[0;34m:\u001b[0m\u001b[0;36m2\u001b[0m\u001b[0;34m]\u001b[0m\u001b[0;34m\u001b[0m\u001b[0m\n\u001b[0;32m---> 21\u001b[0;31m     \u001b[0mlabel_pred\u001b[0m \u001b[0;34m=\u001b[0m \u001b[0mregr\u001b[0m\u001b[0;34m.\u001b[0m\u001b[0mpredict\u001b[0m\u001b[0;34m(\u001b[0m\u001b[0mtest_features\u001b[0m\u001b[0;34m)\u001b[0m\u001b[0;34m\u001b[0m\u001b[0m\n\u001b[0m\u001b[1;32m     22\u001b[0m     \u001b[0mlabel_pred\u001b[0m\u001b[0;34m[\u001b[0m\u001b[0;34m:\u001b[0m\u001b[0;34m]\u001b[0m \u001b[0;34m=\u001b[0m \u001b[0;34m[\u001b[0m\u001b[0mx\u001b[0m\u001b[0;34m-\u001b[0m\u001b[0;36m40\u001b[0m \u001b[0;32mfor\u001b[0m \u001b[0mx\u001b[0m \u001b[0;32min\u001b[0m \u001b[0mlabel_pred\u001b[0m\u001b[0;34m]\u001b[0m\u001b[0;34m\u001b[0m\u001b[0m\n\u001b[1;32m     23\u001b[0m     \u001b[0mreshaped_submission_df\u001b[0m\u001b[0;34m.\u001b[0m\u001b[0miloc\u001b[0m\u001b[0;34m[\u001b[0m\u001b[0;34m:\u001b[0m\u001b[0;34m,\u001b[0m\u001b[0mi\u001b[0m\u001b[0;34m]\u001b[0m\u001b[0;34m=\u001b[0m\u001b[0mlabel_pred\u001b[0m\u001b[0;34m\u001b[0m\u001b[0m\n",
      "\u001b[0;32m/home/wasif/anaconda3/lib/python3.6/site-packages/sklearn/linear_model/base.py\u001b[0m in \u001b[0;36mpredict\u001b[0;34m(self, X)\u001b[0m\n\u001b[1;32m    266\u001b[0m             \u001b[0mReturns\u001b[0m \u001b[0mpredicted\u001b[0m \u001b[0mvalues\u001b[0m\u001b[0;34m.\u001b[0m\u001b[0;34m\u001b[0m\u001b[0m\n\u001b[1;32m    267\u001b[0m         \"\"\"\n\u001b[0;32m--> 268\u001b[0;31m         \u001b[0;32mreturn\u001b[0m \u001b[0mself\u001b[0m\u001b[0;34m.\u001b[0m\u001b[0m_decision_function\u001b[0m\u001b[0;34m(\u001b[0m\u001b[0mX\u001b[0m\u001b[0;34m)\u001b[0m\u001b[0;34m\u001b[0m\u001b[0m\n\u001b[0m\u001b[1;32m    269\u001b[0m \u001b[0;34m\u001b[0m\u001b[0m\n\u001b[1;32m    270\u001b[0m     \u001b[0m_preprocess_data\u001b[0m \u001b[0;34m=\u001b[0m \u001b[0mstaticmethod\u001b[0m\u001b[0;34m(\u001b[0m\u001b[0m_preprocess_data\u001b[0m\u001b[0;34m)\u001b[0m\u001b[0;34m\u001b[0m\u001b[0m\n",
      "\u001b[0;32m/home/wasif/anaconda3/lib/python3.6/site-packages/sklearn/linear_model/base.py\u001b[0m in \u001b[0;36m_decision_function\u001b[0;34m(self, X)\u001b[0m\n\u001b[1;32m    251\u001b[0m         \u001b[0mX\u001b[0m \u001b[0;34m=\u001b[0m \u001b[0mcheck_array\u001b[0m\u001b[0;34m(\u001b[0m\u001b[0mX\u001b[0m\u001b[0;34m,\u001b[0m \u001b[0maccept_sparse\u001b[0m\u001b[0;34m=\u001b[0m\u001b[0;34m[\u001b[0m\u001b[0;34m'csr'\u001b[0m\u001b[0;34m,\u001b[0m \u001b[0;34m'csc'\u001b[0m\u001b[0;34m,\u001b[0m \u001b[0;34m'coo'\u001b[0m\u001b[0;34m]\u001b[0m\u001b[0;34m)\u001b[0m\u001b[0;34m\u001b[0m\u001b[0m\n\u001b[1;32m    252\u001b[0m         return safe_sparse_dot(X, self.coef_.T,\n\u001b[0;32m--> 253\u001b[0;31m                                dense_output=True) + self.intercept_\n\u001b[0m\u001b[1;32m    254\u001b[0m \u001b[0;34m\u001b[0m\u001b[0m\n\u001b[1;32m    255\u001b[0m     \u001b[0;32mdef\u001b[0m \u001b[0mpredict\u001b[0m\u001b[0;34m(\u001b[0m\u001b[0mself\u001b[0m\u001b[0;34m,\u001b[0m \u001b[0mX\u001b[0m\u001b[0;34m)\u001b[0m\u001b[0;34m:\u001b[0m\u001b[0;34m\u001b[0m\u001b[0m\n",
      "\u001b[0;32m/home/wasif/anaconda3/lib/python3.6/site-packages/sklearn/utils/extmath.py\u001b[0m in \u001b[0;36msafe_sparse_dot\u001b[0;34m(a, b, dense_output)\u001b[0m\n\u001b[1;32m    187\u001b[0m         \u001b[0;32mreturn\u001b[0m \u001b[0mret\u001b[0m\u001b[0;34m\u001b[0m\u001b[0m\n\u001b[1;32m    188\u001b[0m     \u001b[0;32melse\u001b[0m\u001b[0;34m:\u001b[0m\u001b[0;34m\u001b[0m\u001b[0m\n\u001b[0;32m--> 189\u001b[0;31m         \u001b[0;32mreturn\u001b[0m \u001b[0mfast_dot\u001b[0m\u001b[0;34m(\u001b[0m\u001b[0ma\u001b[0m\u001b[0;34m,\u001b[0m \u001b[0mb\u001b[0m\u001b[0;34m)\u001b[0m\u001b[0;34m\u001b[0m\u001b[0m\n\u001b[0m\u001b[1;32m    190\u001b[0m \u001b[0;34m\u001b[0m\u001b[0m\n\u001b[1;32m    191\u001b[0m \u001b[0;34m\u001b[0m\u001b[0m\n",
      "\u001b[0;31mValueError\u001b[0m: shapes (2985217,2) and (4,1) not aligned: 2 (dim 1) != 4 (dim 0)"
     ]
    }
   ],
   "source": [
    "submission_df = pd.read_csv(\"sample_submission.csv\")\n",
    "\n",
    "reshaped_submission_df=pd.DataFrame()\n",
    "reshaped_submission_df['parcelid']=submission_df['ParcelId'].values\n",
    "reshaped_submission_df['201610']=[20161015]*2985217\n",
    "reshaped_submission_df['201611']=[20161115]*2985217\n",
    "reshaped_submission_df['201612']=[20161215]*2985217\n",
    "reshaped_submission_df['201710']=[20171015]*2985217\n",
    "reshaped_submission_df['201711']=[20171115]*2985217\n",
    "reshaped_submission_df['201712']=[20171215]*2985217\n",
    "\n",
    "reshaped_submission_df['yearbuilt']=0\n",
    "year=reshaped_submission_df[['parcelid','yearbuilt']].set_index('parcelid')\n",
    "year.update(selected_df.set_index('parcelid'))\n",
    "reshaped_submission_df['yearbuilt']=year.values\n",
    "\n",
    "reshaped_submission_df['mortgagerate30yr']=0\n",
    "mortgage=reshaped_submission_df[['parcelid','mortgagerate30yr']].set_index('parcelid')\n",
    "mortgage.update(selected_df.set_index('parcelid'))\n",
    "reshaped_submission_df['yearbuilt']=year.values\n",
    "\n",
    "reshaped_submission_df['usconsumersentiment']=0\n",
    "sentiment=reshaped_submission_df[['parcelid','yearbuilt']].set_index('parcelid')\n",
    "sentiment.update(selected_df.set_index('parcelid'))\n",
    "reshaped_submission_df['yearbuilt']=year.values\n",
    "\n",
    "for i in range(1,7):\n",
    "    temp2_df=pd.DataFrame()\n",
    "    temp2_df['yearbuilt']=reshaped_submission_df['yearbuilt']\n",
    "    temp2_df['transactiondate']=reshaped_submission_df.iloc[:,i]\n",
    "    test_features=temp2_df.iloc[0:len(reshaped_submission_df.index),0:2]\n",
    "    label_pred = regr.predict(test_features)\n",
    "    label_pred[:] = [x-40 for x in label_pred]\n",
    "    reshaped_submission_df.iloc[:,i]=label_pred\n",
    "\n",
    "reshaped_submission_df=reshaped_submission_df.drop('yearbuilt',axis=1)\n",
    "reshaped_submission_df.to_csv('results.csv',index=False)"
   ]
  }
 ],
 "metadata": {
  "kernelspec": {
   "display_name": "Python 3",
   "language": "python",
   "name": "python3"
  },
  "language_info": {
   "codemirror_mode": {
    "name": "ipython",
    "version": 3
   },
   "file_extension": ".py",
   "mimetype": "text/x-python",
   "name": "python",
   "nbconvert_exporter": "python",
   "pygments_lexer": "ipython3",
   "version": "3.6.1"
  }
 },
 "nbformat": 4,
 "nbformat_minor": 2
}
