{
 "cells": [
  {
   "cell_type": "markdown",
   "metadata": {},
   "source": [
    "<h1><center>ASSIGNMENT 3</center></h1>\n",
    "## TASK 1: Ranking by desirability\n",
    "Below, we load the data from the new file provided by Zillow. The interesting variables are found out like Assignment 2 and made into a dataframe for further processing."
   ]
  },
  {
   "cell_type": "code",
   "execution_count": 1,
   "metadata": {
    "collapsed": true
   },
   "outputs": [],
   "source": [
    "import warnings\n",
    "warnings.filterwarnings('ignore')\n",
    "\n",
    "import pandas as pd\n",
    "\n",
    "df = pd.read_csv(\"properties_2017.csv\")\n",
    "col_array=list(df)\n",
    "data_array=(len(df.index)-df.isnull().sum())/len(df.index)\n",
    "col_selected=[]\n",
    "\n",
    "for i in range(0,len(data_array)):\n",
    "    if data_array[i]>=0.5:\n",
    "        col_selected.append(col_array[i])\n",
    "\n",
    "remove_labels=['fips','propertyzoningdesc','rawcensustractandblock','censustractandblock','assessmentyear','taxdelinquencyyear']\n",
    "\n",
    "for x in remove_labels:\n",
    "    if x in col_selected:\n",
    "        col_selected.remove(x)\n",
    "    \n",
    "selected_df=df[col_selected].copy()"
   ]
  },
  {
   "cell_type": "markdown",
   "metadata": {},
   "source": [
    "After selecting the interesting columns, we further narrow down our choice. We select a number of columns which are most likely to determine the price of a house and form a scoring function using them. We then score each of the house and find out the 10 houses which score the most and least according to our function."
   ]
  },
  {
   "cell_type": "code",
   "execution_count": 11,
   "metadata": {},
   "outputs": [
    {
     "name": "stdout",
     "output_type": "stream",
     "text": [
      "Best 10 houses:\n",
      "\n",
      "parcelid\n",
      "12545239\n",
      "11887759\n",
      "11588667\n",
      "11641464\n",
      "11506355\n",
      "11982343\n",
      "12527124\n",
      "11982362\n",
      "11390237\n",
      "11661131\n",
      "\n",
      "Worst 10 houses:\n",
      "\n",
      "parcelid\n",
      " 12036477\n",
      "167638107\n",
      " 10890406\n",
      " 13073054\n",
      " 11857690\n",
      " 11984395\n",
      " 11843438\n",
      " 11746970\n",
      "167638594\n",
      " 10944745\n"
     ]
    }
   ],
   "source": [
    "import math\n",
    "\n",
    "scoring_cols=['parcelid','bathroomcnt','buildingqualitytypeid','finishedsquarefeet12','unitcnt','yearbuilt','taxamount','latitude','longitude']\n",
    "temp_df=selected_df[scoring_cols].copy()\n",
    "temp_df=temp_df.fillna(temp_df.mean())\n",
    "\n",
    "normalized_df=pd.DataFrame()\n",
    "\n",
    "for col in scoring_cols:\n",
    "    if col=='parcelid':\n",
    "        normalized_df[col]=temp_df[col]\n",
    "    else:\n",
    "        normalized_df[col]=(temp_df[col] - temp_df[col].mean()) / (temp_df[col].max() - temp_df[col].min())\n",
    "\n",
    "def scoring_fn(bath,quality,area,unit,year,tax):\n",
    "    return (0.05*bath)+(0.3*(1-quality))+(0.3*area)+(0.1*unit)+(0.1*year)+(0.15*tax)\n",
    "    \n",
    "normalized_df['score'] = normalized_df.apply(lambda row: scoring_fn(row['bathroomcnt'], row['buildingqualitytypeid'],row['finishedsquarefeet12'],row['unitcnt'],row['yearbuilt'],row['taxamount']), axis=1)\n",
    "\n",
    "normalized_df=normalized_df.sort_values('score')\n",
    "print('Best 10 houses:\\n')\n",
    "print(normalized_df.head(10)[['parcelid']].to_string(index=False))\n",
    "print('\\nWorst 10 houses:\\n')\n",
    "print(normalized_df.tail(10)[['parcelid']].to_string(index=False))"
   ]
  },
  {
   "cell_type": "markdown",
   "metadata": {},
   "source": [
    "### Description of cost function\n",
    "The columns making up the cost function has been selected according to their potential to play an important factor in determining the pricing of a house. In doing that, the columns had been normalized because each column has a different unit and largely varying range. The weights given to the different columns has been assigned so as to reflect the effect of that factor on the price.\n",
    "<p>The columns selected for the weight function are the following:</p>\n",
    "<p>\n",
    "<strong>Building quality type: </strong>The quality of a building would be very important in determining the price of the building. The higher the quality, the greater would be the price of it. A lower number in the quality column denotes a better building. So the scoring function has been taken to subtract the normalized quality from 1 so that a lower value may reflect highly on the score.\n",
    "</p>\n",
    "<p>\n",
    "<strong>Finished square feet: </strong>Higher the area of the house, the greater will be the price. The importance of the finished square feet in determining the price of a house is reflected in its weight.\n",
    "</p>\n",
    "<p>\n",
    "<strong>Unit count: </strong>A house having more units would have a higher price tag than one with smaller number of units.\n",
    "</p>\n",
    "<p>\n",
    "<strong>Year built: </strong>A house built more recently is more likely to have a higher price than old ones. In assignment 2, we saw that the quality of house is related to the year they were built in.\n",
    "</p>\n",
    "<p>\n",
    "<strong>Tax on property: </strong>Highly taxed houses are also the more expensive ones.\n",
    "</p>\n",
    "<p>\n",
    "<strong>Bathroom count: </strong>Not a very important as seen from the weight. However a house having more bathrooms would also be roomier and so more expensive.\n",
    "</p>\n",
    "<p>A large number of factors play into the price of a house. However the factors chosen here are the most likely to affect the price. Their weight has been arranged so that they portray an accurate picture of the relative importance of the different factors involved. As such, the cost function should be very accurate.</p>"
   ]
  },
  {
   "cell_type": "markdown",
   "metadata": {},
   "source": [
    "## TASK 2: Pairwise distance function"
   ]
  },
  {
   "cell_type": "code",
   "execution_count": 21,
   "metadata": {},
   "outputs": [
    {
     "name": "stdout",
     "output_type": "stream",
     "text": [
      "\n",
      "Mean distance between best pairs of houses:  0.24920694123627132\n",
      "\n",
      "Mean distance between worst pairs of houses:  0.12473760923884378\n",
      "\n",
      "Mean distance between best and worst pairs of houses:  1.0172083307860769\n"
     ]
    }
   ],
   "source": [
    "def distance_fn(lat1,lat2,long1,long2,quality1,quality2,area1,area2,unit1,unit2,tax1,tax2):\n",
    "    lat_diff=math.pow(math.fabs(lat1-lat2),2)\n",
    "    long_diff=math.pow(math.fabs(long1-long2),2)\n",
    "    qual_diff=math.pow(math.fabs(quality1-quality2),2)\n",
    "    area_diff=math.pow(math.fabs(area1-area2),2)\n",
    "    unit_diff=math.pow(math.fabs(unit1-unit2),2)\n",
    "    tax_diff=math.pow(math.fabs(tax1-tax2),2)\n",
    "    return math.sqrt(lat_diff+long_diff+qual_diff+area_diff+unit_diff+tax_diff)    \n",
    "\n",
    "best_df=normalized_df.tail(1000).copy()\n",
    "worst_df=normalized_df.head(1000).copy()\n",
    "\n",
    "count,sum_count=0,0\n",
    "#print('Pairwise distance between best pairs of houses:\\n')\n",
    "for index1,row1 in best_df.iterrows():\n",
    "    for index2,row2 in best_df.iterrows():\n",
    "        if index2==index1:\n",
    "            continue\n",
    "        distance_score=distance_fn(row1['latitude'],row2['latitude'],row1['longitude'],row2['longitude'],row1['buildingqualitytypeid'],row2['buildingqualitytypeid'],row1['finishedsquarefeet12'],row2['finishedsquarefeet12'],row1['unitcnt'],row2['unitcnt'],row1['taxamount'],row2['taxamount'])\n",
    "        sum_count=sum_count+distance_score\n",
    "        count=count+1.0\n",
    "        #print(int(row1['parcelid']),'   ',int(row2['parcelid']),'   ',distance_score)\n",
    "print('\\nMean distance between best pairs of houses: ',sum_count/count)\n",
    "\n",
    "count,sum_count=0,0\n",
    "#print('\\nPairwise distance between best and worst pairs of houses:\\n')\n",
    "for index1,row1 in worst_df.iterrows():\n",
    "    for index2,row2 in worst_df.iterrows():\n",
    "        if index2==index1:\n",
    "            continue\n",
    "        distance_score=distance_fn(row1['latitude'],row2['latitude'],row1['longitude'],row2['longitude'],row1['buildingqualitytypeid'],row2['buildingqualitytypeid'],row1['finishedsquarefeet12'],row2['finishedsquarefeet12'],row1['unitcnt'],row2['unitcnt'],row1['taxamount'],row2['taxamount'])\n",
    "        sum_count=sum_count+distance_score\n",
    "        count=count+1.0\n",
    "        #print(int(row1['parcelid']),'   ',int(row2['parcelid']),'   ',distance_score)\n",
    "print('\\nMean distance between worst pairs of houses: ',sum_count/count)\n",
    "\n",
    "count,sum_count=0,0\n",
    "#print('\\nPairwise distance between best and worst pairs of houses:\\n')\n",
    "for index1,row1 in best_df.iterrows():\n",
    "    for index2,row2 in worst_df.iterrows():\n",
    "        if index2==index1:\n",
    "            continue\n",
    "        distance_score=distance_fn(row1['latitude'],row2['latitude'],row1['longitude'],row2['longitude'],row1['buildingqualitytypeid'],row2['buildingqualitytypeid'],row1['finishedsquarefeet12'],row2['finishedsquarefeet12'],row1['unitcnt'],row2['unitcnt'],row1['taxamount'],row2['taxamount'])\n",
    "        sum_count=sum_count+distance_score\n",
    "        count=count+1.0\n",
    "        #print(int(row1['parcelid']),'   ',int(row2['parcelid']),'   ',distance_score)\n",
    "print('\\nMean distance between best and worst pairs of houses: ',sum_count/count)"
   ]
  },
  {
   "cell_type": "markdown",
   "metadata": {},
   "source": [
    "In Task 1, we found out the houses which were most and least desirable. In this task, we come up with a pairwise distance function for different houses and test it on the dataset that we have scored in the previous task. \n",
    "<p>The factors which would affect the \"distance\" of a house from each other are similar to those which affect the desirability of a house. So a number of factors which were considered during calculating the desirability score for each house has been retained while calculating the distance. However, in this case, we also consider the geographic aspect of the house. It is only natural that houses which are geographicaly close by should also be very close to each other in terms of \"distance\". The following factors have been considered in coming up with a distance function:</p>\n",
    "<p>\n",
    "<strong>Latitude: </strong>One of the two factors in the geographic position of a house. Houses which are close by are similar in terms of price and setting. \n",
    "</p>\n",
    "<p>\n",
    "<strong>Longitude: </strong>The second factor in determining the geographic position of a house.\n",
    "</p>\n",
    "<p>\n",
    "<strong>Building quality: </strong>This is an important factor in the distance function. Houses which have similar quality would most likely be of the same type.\n",
    "</p>\n",
    "<p>\n",
    "<strong>Area: </strong>The area of a house is another factor which determines whether two houses are similar or not. It is usually the case that houses in a certain locality have nearly the same area as they are designed in the same way and the land area is the same in both cases.\n",
    "</p>\n",
    "<p>\n",
    "<strong>Unit count: </strong>Houses having different number of units would most likely be different from each other.\n",
    "</p>\n",
    "<p>\n",
    "<strong>Tax amount: </strong>The tax amount is a good indicator for the price of a house. Some locations have high taxes and the houses in those locations are fairly similar to each other and so should have a smaller distance between them. \n",
    "</p>\n",
    "<p>\n",
    "The distance function takes into consideration all of these factors and then calculates the Euclidean distance between houses using the normalized values of these factors as coordinates for the houses. We have already ranked the houses in Task 1 and now we can test the distance of houses in and among different groups. We take out the 1000 best houses and the 1000 worst houses from the dataset according to the desirability score and calculate the distance between and among them. The above code prints out three lines: the mean distance among the best houses, the mean distance among the worst houses and the mean distance while a house is taken from the best and another from the worst <em>(to display the pairwise distances in each group, uncomment the three lines in code which print out the pairwise house distances in each group)</em>. As it can be seen, the distance of houses among each group is less compared to when we take the houses from different groups. So the distance function performs fairly well.\n",
    "</p>"
   ]
  },
  {
   "cell_type": "markdown",
   "metadata": {},
   "source": [
    "## TASK 3: Clustering"
   ]
  },
  {
   "cell_type": "code",
   "execution_count": null,
   "metadata": {
    "collapsed": true
   },
   "outputs": [],
   "source": []
  }
 ],
 "metadata": {
  "kernelspec": {
   "display_name": "Python 3",
   "language": "python",
   "name": "python3"
  }
 },
 "nbformat": 4,
 "nbformat_minor": 2
}
